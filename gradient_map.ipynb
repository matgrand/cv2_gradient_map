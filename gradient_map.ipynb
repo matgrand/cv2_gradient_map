{
 "cells": [
  {
   "cell_type": "code",
   "execution_count": 6,
   "metadata": {},
   "outputs": [],
   "source": [
    "import numpy as np\n",
    "import cv2 as cv\n",
    "\n",
    "def create_gradient_map(c1, c2):\n",
    "    b = np.linspace(c1[0], c2[0], 256)\n",
    "    g = np.linspace(c1[1], c2[1], 256)\n",
    "    r = np.linspace(c1[2], c2[2], 256)   \n",
    "    grad_map = [(int(b[i]), int(g[i]), int(r[i])) for i in range(256)]\n",
    "    return grad_map\n",
    "\n",
    "def show_grad_map(gmap):\n",
    "    cv.namedWindow('gradient map', cv.WINDOW_NORMAL)\n",
    "    cv.resizeWindow('gradient map', 500, 500)\n",
    "    l = len(gmap)\n",
    "    to_show = np.zeros((2*l, 2*l, 3), dtype=np.uint8)\n",
    "    for i, (b,g,r) in enumerate(gmap):\n",
    "        cv.line(to_show, (0, 2*i), (2*l, 2*i), (int(b),int(g),int(r)), 2)\n",
    "    cv.imshow('gradient map', to_show)\n",
    "\n",
    "def create_grad_img(img, grad_map):\n",
    "    _,_,img_v = cv.split(cv.cvtColor(img, cv.COLOR_BGR2HSV))\n",
    "    grad_img = np.zeros_like(img)\n",
    "    for i, (b,g,r) in enumerate(grad_map):\n",
    "        grad_img[img_v==i] = [b,g,r]\n",
    "    return grad_img\n",
    "\n",
    "def blend_images(img1, img2, alpha=0.5):\n",
    "    return cv.addWeighted(img2, alpha, img1, 1-alpha, 0)"
   ]
  },
  {
   "cell_type": "code",
   "execution_count": 17,
   "metadata": {},
   "outputs": [
    {
     "name": "stdout",
     "output_type": "stream",
     "text": [
      "tot_frames: 256\n"
     ]
    },
    {
     "name": "stderr",
     "output_type": "stream",
     "text": [
      "OpenCV: FFMPEG: tag 0x44495658/'XVID' is not supported with codec id 12 and format 'mp4 / MP4 (MPEG-4 Part 14)'\n",
      "OpenCV: FFMPEG: fallback to use tag 0x7634706d/'mp4v'\n"
     ]
    }
   ],
   "source": [
    "#create a video that swipes images from blend=1 to blend=0\n",
    "PRE_TIME = 0.0 #seconds\n",
    "TIME = 5.0 #seconds\n",
    "POST_TIME = 1.0 #seconds\n",
    "FPS = 60.0 #frames per second\n",
    "\n",
    "BLEND_START = 0.8\n",
    "BLEND_END = 0.0\n",
    "\n",
    "B_COL = (255, 200, 0)  #bgr\n",
    "W_COL = (255, 0, 255)  #bgr\n",
    "img = cv.imread('img.jpg')\n",
    "\n",
    "grad_map = create_gradient_map(B_COL, W_COL)\n",
    "grad_img = create_grad_img(img, grad_map)\n",
    "\n",
    "cv.namedWindow('video', cv.WINDOW_NORMAL)\n",
    "cv.resizeWindow('video', 800, 800)\n",
    "\n",
    "show_grad_map(grad_map)\n",
    "\n",
    "\n",
    "#video\n",
    "assert (PRE_TIME+TIME+POST_TIME)*FPS > len(grad_map), f'too short, TIM*FPS: {TIME*FPS}, len(grad_map): {len(grad_map)}'\n",
    "tot_frames_single_color = int(int(TIME*FPS)/len(grad_map))\n",
    "tot_frames = tot_frames_single_color*len(grad_map)\n",
    "blends = np.linspace(BLEND_START, BLEND_END, tot_frames)\n",
    "print(f'tot_frames: {tot_frames}')\n",
    "#create video with maximum quality\n",
    "video = cv.VideoWriter('demo.mp4', cv.VideoWriter_fourcc(*'XVID'), FPS, (img.shape[1], img.shape[0]))\n",
    "#add pre frames\n",
    "for i in range(int(PRE_TIME*FPS)):\n",
    "    blend_image = blend_images(img, grad_img, blends[0])\n",
    "    video.write(blend_image)\n",
    "    cv.imshow('video', blend_image)\n",
    "    cv.waitKey(10)\n",
    "for i in range(tot_frames):\n",
    "    blend_image = blend_images(img, grad_img, blends[i])\n",
    "    #add frame to video\n",
    "    video.write(blend_image)\n",
    "    cv.imshow('video', blend_image)\n",
    "    cv.waitKey(10)\n",
    "#add post frames\n",
    "for i in range(int(POST_TIME*FPS)):\n",
    "    blend_image = blend_images(img, grad_img, blends[-1])\n",
    "    video.write(blend_image)\n",
    "    cv.imshow('video', blend_image)\n",
    "    cv.waitKey(10)\n",
    "video.release()\n",
    "\n",
    "cv.destroyAllWindows()"
   ]
  }
 ],
 "metadata": {
  "kernelspec": {
   "display_name": "Python 3",
   "language": "python",
   "name": "python3"
  },
  "language_info": {
   "codemirror_mode": {
    "name": "ipython",
    "version": 3
   },
   "file_extension": ".py",
   "mimetype": "text/x-python",
   "name": "python",
   "nbconvert_exporter": "python",
   "pygments_lexer": "ipython3",
   "version": "3.8.10"
  },
  "orig_nbformat": 4
 },
 "nbformat": 4,
 "nbformat_minor": 2
}
